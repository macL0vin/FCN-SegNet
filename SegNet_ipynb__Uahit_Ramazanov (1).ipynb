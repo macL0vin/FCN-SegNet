{
  "nbformat": 4,
  "nbformat_minor": 0,
  "metadata": {
    "accelerator": "GPU",
    "colab": {
      "name": "SegNet_ipynb__Uahit Ramazanov.ipynb",
      "provenance": [],
      "collapsed_sections": []
    },
    "kernelspec": {
      "display_name": "Python 3",
      "language": "python",
      "name": "python3"
    },
    "language_info": {
      "codemirror_mode": {
        "name": "ipython",
        "version": 3
      },
      "file_extension": ".py",
      "mimetype": "text/x-python",
      "name": "python",
      "nbconvert_exporter": "python",
      "pygments_lexer": "ipython3",
      "version": "3.7.6"
    }
  },
  "cells": [
    {
      "cell_type": "code",
      "metadata": {
        "id": "AijEvV9x8Cdo"
      },
      "source": [
        "import numpy as np\n",
        "import matplotlib.pyplot as plt\n",
        "import cv2\n",
        "import pandas as pd"
      ],
      "execution_count": null,
      "outputs": []
    },
    {
      "cell_type": "code",
      "metadata": {
        "id": "u6IIpLCU8Cyf"
      },
      "source": [
        "from google.colab import drive\n",
        "drive.mount('/content/drive')"
      ],
      "execution_count": null,
      "outputs": []
    },
    {
      "cell_type": "code",
      "metadata": {
        "id": "c7cnkmpo8TM7"
      },
      "source": [
        "path = '/content/drive/MyDrive/'"
      ],
      "execution_count": null,
      "outputs": []
    },
    {
      "cell_type": "code",
      "metadata": {
        "id": "7qTrGTQXL7p1"
      },
      "source": [
        "import os "
      ],
      "execution_count": null,
      "outputs": []
    },
    {
      "cell_type": "code",
      "metadata": {
        "colab": {
          "base_uri": "https://localhost:8080/"
        },
        "id": "j-cRaHXGiMo6",
        "outputId": "6c8cb03c-ccc2-4b72-ae6b-1cf476ae77d4"
      },
      "source": [
        " ! pwd"
      ],
      "execution_count": null,
      "outputs": [
        {
          "output_type": "stream",
          "name": "stdout",
          "text": [
            "/content\n"
          ]
        }
      ]
    },
    {
      "cell_type": "code",
      "metadata": {
        "id": "B5Q_fNQPHU3Q"
      },
      "source": [
        "# directory = '/content/drive/MyDrive/fish\n",
        "\n",
        "\n",
        "\n",
        "directory = '/content/drive/MyDrive/fish/fish'\n",
        "train_files = []\n",
        "target_files = []\n",
        "fish_types = 'Black Sea Sprat'\n",
        "for file in os.listdir(os.path.join(directory, fish_types)):\n",
        "    train_files.append(os.path.join(directory, 'Black Sea Sprat', file))\n",
        "    target_files.append(os.path.join(directory,  'Black Sea Sprat GT', file))"
      ],
      "execution_count": null,
      "outputs": []
    },
    {
      "cell_type": "code",
      "metadata": {
        "colab": {
          "base_uri": "https://localhost:8080/",
          "height": 206
        },
        "id": "x_lioPVbHU8W",
        "outputId": "1c593a33-a5c1-41e6-febf-807f1b2c1e38"
      },
      "source": [
        "df = pd.DataFrame({'img' : train_files, 'mask' : target_files})\n",
        "df.head()"
      ],
      "execution_count": null,
      "outputs": [
        {
          "output_type": "execute_result",
          "data": {
            "text/html": [
              "<div>\n",
              "<style scoped>\n",
              "    .dataframe tbody tr th:only-of-type {\n",
              "        vertical-align: middle;\n",
              "    }\n",
              "\n",
              "    .dataframe tbody tr th {\n",
              "        vertical-align: top;\n",
              "    }\n",
              "\n",
              "    .dataframe thead th {\n",
              "        text-align: right;\n",
              "    }\n",
              "</style>\n",
              "<table border=\"1\" class=\"dataframe\">\n",
              "  <thead>\n",
              "    <tr style=\"text-align: right;\">\n",
              "      <th></th>\n",
              "      <th>img</th>\n",
              "      <th>mask</th>\n",
              "    </tr>\n",
              "  </thead>\n",
              "  <tbody>\n",
              "    <tr>\n",
              "      <th>0</th>\n",
              "      <td>/content/drive/MyDrive/fish/fish/Black Sea Spr...</td>\n",
              "      <td>/content/drive/MyDrive/fish/fish/Black Sea Spr...</td>\n",
              "    </tr>\n",
              "    <tr>\n",
              "      <th>1</th>\n",
              "      <td>/content/drive/MyDrive/fish/fish/Black Sea Spr...</td>\n",
              "      <td>/content/drive/MyDrive/fish/fish/Black Sea Spr...</td>\n",
              "    </tr>\n",
              "    <tr>\n",
              "      <th>2</th>\n",
              "      <td>/content/drive/MyDrive/fish/fish/Black Sea Spr...</td>\n",
              "      <td>/content/drive/MyDrive/fish/fish/Black Sea Spr...</td>\n",
              "    </tr>\n",
              "    <tr>\n",
              "      <th>3</th>\n",
              "      <td>/content/drive/MyDrive/fish/fish/Black Sea Spr...</td>\n",
              "      <td>/content/drive/MyDrive/fish/fish/Black Sea Spr...</td>\n",
              "    </tr>\n",
              "    <tr>\n",
              "      <th>4</th>\n",
              "      <td>/content/drive/MyDrive/fish/fish/Black Sea Spr...</td>\n",
              "      <td>/content/drive/MyDrive/fish/fish/Black Sea Spr...</td>\n",
              "    </tr>\n",
              "  </tbody>\n",
              "</table>\n",
              "</div>"
            ],
            "text/plain": [
              "                                                 img                                               mask\n",
              "0  /content/drive/MyDrive/fish/fish/Black Sea Spr...  /content/drive/MyDrive/fish/fish/Black Sea Spr...\n",
              "1  /content/drive/MyDrive/fish/fish/Black Sea Spr...  /content/drive/MyDrive/fish/fish/Black Sea Spr...\n",
              "2  /content/drive/MyDrive/fish/fish/Black Sea Spr...  /content/drive/MyDrive/fish/fish/Black Sea Spr...\n",
              "3  /content/drive/MyDrive/fish/fish/Black Sea Spr...  /content/drive/MyDrive/fish/fish/Black Sea Spr...\n",
              "4  /content/drive/MyDrive/fish/fish/Black Sea Spr...  /content/drive/MyDrive/fish/fish/Black Sea Spr..."
            ]
          },
          "metadata": {},
          "execution_count": 8
        }
      ]
    },
    {
      "cell_type": "code",
      "metadata": {
        "id": "tObGho77Iotq"
      },
      "source": [
        "df1 = pd.DataFrame()"
      ],
      "execution_count": null,
      "outputs": []
    },
    {
      "cell_type": "code",
      "metadata": {
        "id": "SZPIDMWcMTtC"
      },
      "source": [
        "from tqdm import tqdm"
      ],
      "execution_count": null,
      "outputs": []
    },
    {
      "cell_type": "code",
      "metadata": {
        "id": "OJH_zwxad6bs"
      },
      "source": [
        "df = df[:20]"
      ],
      "execution_count": null,
      "outputs": []
    },
    {
      "cell_type": "code",
      "metadata": {
        "colab": {
          "base_uri": "https://localhost:8080/",
          "height": 35
        },
        "id": "pfiOAl1ZMhCn",
        "outputId": "9cea9db7-4f94-4617-b0b0-4d775caf7151"
      },
      "source": [
        "(df['img'][0])"
      ],
      "execution_count": null,
      "outputs": [
        {
          "output_type": "execute_result",
          "data": {
            "application/vnd.google.colaboratory.intrinsic+json": {
              "type": "string"
            },
            "text/plain": [
              "'/content/drive/MyDrive/fish/fish/Black Sea Sprat/00001.png'"
            ]
          },
          "metadata": {},
          "execution_count": 12
        }
      ]
    },
    {
      "cell_type": "code",
      "metadata": {
        "colab": {
          "base_uri": "https://localhost:8080/"
        },
        "id": "27UhVr0-HVCv",
        "outputId": "ba637ac0-a130-4ce1-8b2c-22f52e87f8ab"
      },
      "source": [
        "img = []\n",
        "for ind in tqdm(range(len(df['img']))):\n",
        "    origImage = cv2.imread(df['img'][ind])\n",
        "    #origImage = cv2.cvtColor(origImage, cv2.COLOR_BGR2GRAY, )\n",
        "    img.append(origImage)\n",
        "df1['img'] = img"
      ],
      "execution_count": null,
      "outputs": [
        {
          "output_type": "stream",
          "name": "stderr",
          "text": [
            "100%|██████████| 20/20 [00:05<00:00,  3.97it/s]\n"
          ]
        }
      ]
    },
    {
      "cell_type": "code",
      "metadata": {
        "colab": {
          "base_uri": "https://localhost:8080/"
        },
        "id": "PcFZshd-YqT0",
        "outputId": "b5655f80-9aa6-483e-9707-367c48b4684d"
      },
      "source": [
        "df1['img'].head()"
      ],
      "execution_count": null,
      "outputs": [
        {
          "output_type": "execute_result",
          "data": {
            "text/plain": [
              "0    [[[0, 0, 0], [0, 0, 0], [0, 0, 0], [0, 0, 0], ...\n",
              "1    [[[0, 0, 0], [0, 0, 0], [0, 0, 0], [0, 0, 0], ...\n",
              "2    [[[0, 0, 0], [0, 0, 0], [0, 0, 0], [0, 0, 0], ...\n",
              "3    [[[0, 0, 0], [0, 0, 0], [0, 0, 0], [0, 0, 0], ...\n",
              "4    [[[0, 0, 0], [0, 0, 0], [0, 0, 0], [0, 0, 0], ...\n",
              "Name: img, dtype: object"
            ]
          },
          "metadata": {},
          "execution_count": 14
        }
      ]
    },
    {
      "cell_type": "code",
      "metadata": {
        "colab": {
          "base_uri": "https://localhost:8080/",
          "height": 35
        },
        "id": "qp0qxreXdGxu",
        "outputId": "25090cf3-732a-4a2a-d60a-1c0ffdc87f46"
      },
      "source": [
        "(df['mask'][0])"
      ],
      "execution_count": null,
      "outputs": [
        {
          "output_type": "execute_result",
          "data": {
            "application/vnd.google.colaboratory.intrinsic+json": {
              "type": "string"
            },
            "text/plain": [
              "'/content/drive/MyDrive/fish/fish/Black Sea Sprat GT/00001.png'"
            ]
          },
          "metadata": {},
          "execution_count": 15
        }
      ]
    },
    {
      "cell_type": "code",
      "metadata": {
        "colab": {
          "base_uri": "https://localhost:8080/"
        },
        "id": "wnfMKC_0IH0Y",
        "outputId": "cdaa2231-a1db-41ec-b380-9cc184d121cf"
      },
      "source": [
        "mask = []\n",
        "for ind in tqdm(range(len(df['mask']))):\n",
        "    origImage = cv2.imread(df['mask'][ind])\n",
        "    #print(origImage)\n",
        "    origImage = cv2.cvtColor(origImage, cv2.COLOR_BGR2GRAY, )\n",
        "    origImage = (origImage ) \n",
        "    mask.append(origImage**2)\n",
        "df1['mask'] = mask"
      ],
      "execution_count": null,
      "outputs": [
        {
          "output_type": "stream",
          "name": "stderr",
          "text": [
            "100%|██████████| 20/20 [00:04<00:00,  4.25it/s]\n"
          ]
        }
      ]
    },
    {
      "cell_type": "code",
      "metadata": {
        "colab": {
          "base_uri": "https://localhost:8080/"
        },
        "id": "_rvmMP1kgjE9",
        "outputId": "b6e99925-3297-46fa-c7d8-574efe3f14dd"
      },
      "source": [
        "mask[0]"
      ],
      "execution_count": null,
      "outputs": [
        {
          "output_type": "execute_result",
          "data": {
            "text/plain": [
              "array([[0, 0, 0, ..., 0, 0, 0],\n",
              "       [0, 0, 0, ..., 0, 0, 0],\n",
              "       [0, 0, 0, ..., 0, 0, 0],\n",
              "       ...,\n",
              "       [0, 0, 0, ..., 0, 0, 0],\n",
              "       [0, 0, 0, ..., 0, 0, 0],\n",
              "       [0, 0, 0, ..., 0, 0, 0]], dtype=uint8)"
            ]
          },
          "metadata": {},
          "execution_count": 17
        }
      ]
    },
    {
      "cell_type": "code",
      "metadata": {
        "colab": {
          "base_uri": "https://localhost:8080/"
        },
        "id": "viuC8983bebf",
        "outputId": "99567607-0f6e-4c4b-878a-74a1b3a087fd"
      },
      "source": [
        "df1['mask'].head()"
      ],
      "execution_count": null,
      "outputs": [
        {
          "output_type": "execute_result",
          "data": {
            "text/plain": [
              "0    [[0, 0, 0, 0, 0, 0, 0, 0, 0, 0, 0, 0, 0, 0, 0,...\n",
              "1    [[0, 0, 0, 0, 0, 0, 0, 0, 0, 0, 0, 0, 0, 0, 0,...\n",
              "2    [[0, 0, 0, 0, 0, 0, 0, 0, 0, 0, 0, 0, 0, 0, 0,...\n",
              "3    [[0, 0, 0, 0, 0, 0, 0, 0, 0, 0, 0, 0, 0, 0, 0,...\n",
              "4    [[0, 0, 0, 0, 0, 0, 0, 0, 0, 0, 0, 0, 0, 0, 0,...\n",
              "Name: mask, dtype: object"
            ]
          },
          "metadata": {},
          "execution_count": 18
        }
      ]
    },
    {
      "cell_type": "code",
      "metadata": {
        "id": "YnXnhXVLnZSt"
      },
      "source": [
        "mask[0]"
      ],
      "execution_count": null,
      "outputs": []
    },
    {
      "cell_type": "code",
      "metadata": {
        "id": "6Msy22Kf_RMN"
      },
      "source": [
        "for x, y in keras_generator(df1, 16):\n",
        "    break"
      ],
      "execution_count": null,
      "outputs": []
    },
    {
      "cell_type": "code",
      "metadata": {
        "colab": {
          "base_uri": "https://localhost:8080/"
        },
        "id": "H9AQdPOiAH9i",
        "outputId": "956d17ec-e07c-458c-a6a4-0f11a7edd3bd"
      },
      "source": [
        "x.shape"
      ],
      "execution_count": null,
      "outputs": [
        {
          "output_type": "execute_result",
          "data": {
            "text/plain": [
              "(16, 256, 256, 3)"
            ]
          },
          "metadata": {},
          "execution_count": 22
        }
      ]
    },
    {
      "cell_type": "code",
      "metadata": {
        "id": "1IEADOfcS8iw"
      },
      "source": [
        "y[0][150]"
      ],
      "execution_count": null,
      "outputs": []
    },
    {
      "cell_type": "code",
      "metadata": {
        "id": "XvaL9FbeBV5c"
      },
      "source": [
        "import keras\n",
        "from keras.applications.vgg16 import VGG16\n",
        "from keras.models import Model\n",
        "from keras.layers import Dense, GlobalAveragePooling2D, Dropout, UpSampling2D, Conv2D, MaxPooling2D, Activation\n",
        "from keras.layers import Input, Dense\n",
        "\n",
        "inp = Input(shape=(256, 256, 3))\n",
        "\n",
        "conv_1_1 = Conv2D(32, (3, 3), padding='same')(inp)\n",
        "conv_1_1 = Activation('relu')(conv_1_1)\n",
        "\n",
        "conv_1_2 = Conv2D(32, (3, 3), padding='same')(conv_1_1)\n",
        "conv_1_2 = Activation('relu')(conv_1_2)\n",
        "\n",
        "pool_1 = MaxPooling2D(2)(conv_1_2)\n",
        "\n",
        "\n",
        "conv_2_1 = Conv2D(64, (3, 3), padding='same')(pool_1)\n",
        "conv_2_1 = Activation('relu')(conv_2_1)\n",
        "\n",
        "conv_2_2 = Conv2D(64, (3, 3), padding='same')(conv_2_1)\n",
        "conv_2_2 = Activation('relu')(conv_2_2)\n",
        "\n",
        "pool_2 = MaxPooling2D(2)(conv_2_2)\n",
        "\n",
        "\n",
        "conv_3_1 = Conv2D(128, (3, 3), padding='same')(pool_2)\n",
        "conv_3_1 = Activation('relu')(conv_3_1)\n",
        "\n",
        "conv_3_2 = Conv2D(128, (3, 3), padding='same')(conv_3_1)\n",
        "conv_3_2 = Activation('relu')(conv_3_2)\n",
        "\n",
        "pool_3 = MaxPooling2D(2)(conv_3_2)\n",
        "\n",
        "\n",
        "conv_4_1 = Conv2D(256, (3, 3), padding='same')(pool_3)\n",
        "conv_4_1 = Activation('relu')(conv_4_1)\n",
        "\n",
        "conv_4_2 = Conv2D(256, (3, 3), padding='same')(conv_4_1)\n",
        "conv_4_2 = Activation('relu')(conv_4_2)\n",
        "\n",
        "pool_4 = MaxPooling2D(2)(conv_4_2)\n",
        "\n",
        "up_1 = UpSampling2D(2, interpolation='bilinear')(pool_4)\n",
        "conv_up_1_1 = Conv2D(256, (3, 3), padding='same')(up_1)\n",
        "conv_up_1_1 = Activation('relu')(conv_up_1_1)\n",
        "\n",
        "conv_up_1_2 = Conv2D(256, (3, 3), padding='same')(conv_up_1_1)\n",
        "conv_up_1_2 = Activation('relu')(conv_up_1_2)\n",
        "\n",
        "\n",
        "up_2 = UpSampling2D(2, interpolation='bilinear')(conv_up_1_2)\n",
        "conv_up_2_1 = Conv2D(128, (3, 3), padding='same')(up_2)\n",
        "conv_up_2_1 = Activation('relu')(conv_up_2_1)\n",
        "\n",
        "conv_up_2_2 = Conv2D(128, (3, 3), padding='same')(conv_up_2_1)\n",
        "conv_up_2_2 = Activation('relu')(conv_up_2_2)\n",
        "\n",
        "\n",
        "up_3 = UpSampling2D(2, interpolation='bilinear')(conv_up_2_2)\n",
        "conv_up_3_1 = Conv2D(64, (3, 3), padding='same')(up_3)\n",
        "conv_up_3_1 = Activation('relu')(conv_up_3_1)\n",
        "\n",
        "conv_up_3_2 = Conv2D(64, (3, 3), padding='same')(conv_up_3_1)\n",
        "conv_up_3_2 = Activation('relu')(conv_up_3_2)\n",
        "\n",
        "\n",
        "\n",
        "up_4 = UpSampling2D(2, interpolation='bilinear')(conv_up_3_2)\n",
        "conv_up_4_1 = Conv2D(32, (3, 3), padding='same')(up_4)\n",
        "conv_up_4_1 = Activation('relu')(conv_up_4_1)\n",
        "\n",
        "conv_up_4_2 = Conv2D(1, (3, 3), padding='same')(conv_up_4_1)\n",
        "result = Activation('sigmoid')(conv_up_4_2)\n",
        "\n",
        "\n",
        "model = Model(inputs=inp, outputs=result)"
      ],
      "execution_count": null,
      "outputs": []
    },
    {
      "cell_type": "code",
      "metadata": {
        "id": "SP7yCMIrCWTr"
      },
      "source": [
        "from tensorflow import keras"
      ],
      "execution_count": null,
      "outputs": []
    },
    {
      "cell_type": "code",
      "metadata": {
        "colab": {
          "base_uri": "https://localhost:8080/"
        },
        "id": "O9yuaOMOBbST",
        "outputId": "44e18bbf-b15c-4130-983d-98b078c5f49b"
      },
      "source": [
        "best_w = keras.callbacks.ModelCheckpoint('fcn_best.h5',\n",
        "                                monitor='val_loss',\n",
        "                                verbose=0,\n",
        "                                save_best_only=True,\n",
        "                                save_weights_only=True,\n",
        "                                mode='auto',\n",
        "                                period=1)\n",
        "\n",
        "last_w = keras.callbacks.ModelCheckpoint('fcn_last.h5',\n",
        "                                monitor='val_loss',\n",
        "                                verbose=0,\n",
        "                                save_best_only=False,\n",
        "                                save_weights_only=True,\n",
        "                                mode='auto',\n",
        "                                period=1)\n",
        "\n",
        "\n",
        "callbacks = [best_w, last_w]\n",
        "\n",
        "\n",
        "\n",
        "adam = keras.optimizers.Adam(lr=0.0001, beta_1=0.9, beta_2=0.999, epsilon=1e-08, decay=0.0)\n",
        "\n",
        "\n",
        "model.compile(adam, 'binary_crossentropy')"
      ],
      "execution_count": null,
      "outputs": [
        {
          "output_type": "stream",
          "name": "stdout",
          "text": [
            "WARNING:tensorflow:`period` argument is deprecated. Please use `save_freq` to specify the frequency in number of batches seen.\n",
            "WARNING:tensorflow:`period` argument is deprecated. Please use `save_freq` to specify the frequency in number of batches seen.\n"
          ]
        },
        {
          "output_type": "stream",
          "name": "stderr",
          "text": [
            "/usr/local/lib/python3.7/dist-packages/keras/optimizer_v2/optimizer_v2.py:356: UserWarning: The `lr` argument is deprecated, use `learning_rate` instead.\n",
            "  \"The `lr` argument is deprecated, use `learning_rate` instead.\")\n"
          ]
        }
      ]
    },
    {
      "cell_type": "code",
      "metadata": {
        "id": "NcxwDuEyDGHs"
      },
      "source": [
        "df_train = df1"
      ],
      "execution_count": null,
      "outputs": []
    },
    {
      "cell_type": "code",
      "metadata": {
        "colab": {
          "base_uri": "https://localhost:8080/"
        },
        "id": "Oi7I3MhQDKpZ",
        "outputId": "dc579a07-3196-4787-a225-2908133f6e42"
      },
      "source": [
        "df1.shape[0]/100*80"
      ],
      "execution_count": null,
      "outputs": [
        {
          "output_type": "execute_result",
          "data": {
            "text/plain": [
              "16.0"
            ]
          },
          "metadata": {},
          "execution_count": 50
        }
      ]
    },
    {
      "cell_type": "code",
      "metadata": {
        "id": "OSHf5wfVDMFf"
      },
      "source": [
        "df_val = df1"
      ],
      "execution_count": null,
      "outputs": []
    },
    {
      "cell_type": "code",
      "metadata": {
        "id": "cfH6HU21je4g"
      },
      "source": [
        "from sklearn.model_selection import train_test_split"
      ],
      "execution_count": null,
      "outputs": []
    },
    {
      "cell_type": "code",
      "metadata": {
        "id": "_Va6VxonjIK5"
      },
      "source": [
        "x_tr,x_val,y_tr,y_val=train_test_split(np.array(df1['img']),np.array(df1['mask']),test_size=0.2,random_state=0,shuffle=True)"
      ],
      "execution_count": null,
      "outputs": []
    },
    {
      "cell_type": "code",
      "metadata": {
        "colab": {
          "base_uri": "https://localhost:8080/"
        },
        "id": "d6z-p9i_ky6E",
        "outputId": "e0d1ddd8-3d5a-4e85-94bc-6ca8b906fa26"
      },
      "source": [
        "x_tr.shape"
      ],
      "execution_count": null,
      "outputs": [
        {
          "output_type": "execute_result",
          "data": {
            "text/plain": [
              "(16,)"
            ]
          },
          "metadata": {},
          "execution_count": 40
        }
      ]
    },
    {
      "cell_type": "code",
      "metadata": {
        "id": "uW2wnxHYjnIH"
      },
      "source": [
        "x_tr,x_val,y_tr,y_val=train_test_split(df1['img'],df1['mask'],test_size=0.2,random_state=0,shuffle=True)"
      ],
      "execution_count": null,
      "outputs": []
    },
    {
      "cell_type": "markdown",
      "metadata": {
        "id": "hye-6W8OM37p"
      },
      "source": [
        "# Changed part. Couldn't split with train_test_split, generator kept throwing errors. Had to split manually"
      ]
    },
    {
      "cell_type": "code",
      "metadata": {
        "id": "tF5_Hv5l2cSL"
      },
      "source": [
        "df_permutated = df1.sample(frac=1)\n",
        "\n",
        "train_size = 0.8\n",
        "train_end = int(len(df_permutated)*train_size)\n",
        "\n",
        "df_train = df_permutated[:train_end]\n",
        "df_test = df_permutated[train_end:]"
      ],
      "execution_count": null,
      "outputs": []
    },
    {
      "cell_type": "code",
      "metadata": {
        "id": "zOSkyLJXALE2"
      },
      "source": [
        "def keras_generator(gen_df, batch_size):\n",
        "    while True:\n",
        "        x_batch = []\n",
        "        y_batch = []\n",
        "        \n",
        "        for i in range(batch_size):\n",
        "            # print(\"gen_df = \",gen_df)\n",
        "\n",
        "            # print(\"gen_df.sample(1).SHAPE = \",gen_df.sample(1).shape)\n",
        "            # print(\"gen_df.sample(1) = \",gen_df.sample(1))\n",
        "            # print(\"gen_df.sample(1)[0] = \",gen_df.sample(1)[0])\n",
        "            # print(\"gen_df.sample(1).values[0] = \",gen_df.sample(1).values[0])\n",
        "\n",
        "            img, mask = gen_df.sample(1).values[0]\n",
        "            # img, mask = gen_df[0]\n",
        "\n",
        "            img = cv2.resize(img, (256, 256))\n",
        "            mask = cv2.resize(mask, (256, 256))\n",
        "            mask =( mask > 0) **2\n",
        "            \n",
        "            x_batch += [img]\n",
        "            y_batch += [mask]\n",
        "\n",
        "        x_batch = np.array(x_batch) / 255.\n",
        "        y_batch = np.array(y_batch)\n",
        "\n",
        "        yield x_batch, np.expand_dims(y_batch, -1)"
      ],
      "execution_count": null,
      "outputs": []
    },
    {
      "cell_type": "code",
      "metadata": {
        "id": "FoR56B0jsdXG"
      },
      "source": [
        ""
      ],
      "execution_count": null,
      "outputs": []
    },
    {
      "cell_type": "code",
      "metadata": {
        "colab": {
          "base_uri": "https://localhost:8080/"
        },
        "id": "X0uXiJuOsdn-",
        "outputId": "b050b0a4-8b3f-4657-e9a0-f20533c3c53b"
      },
      "source": [
        "batch_size = 16\n",
        "model.fit(keras_generator(df_train, batch_size),\n",
        "              steps_per_epoch=100,\n",
        "              epochs=5,\n",
        "              verbose=1,\n",
        "              callbacks=callbacks,\n",
        "              validation_data=keras_generator(df_test, batch_size),\n",
        "              validation_steps=50,\n",
        "              class_weight=None,\n",
        "              max_queue_size=10,\n",
        "              workers=1,\n",
        "              use_multiprocessing=False,\n",
        "              shuffle=True,\n",
        "              initial_epoch=0)"
      ],
      "execution_count": null,
      "outputs": [
        {
          "output_type": "stream",
          "name": "stdout",
          "text": [
            "Epoch 1/5\n",
            "100/100 [==============================] - 89s 524ms/step - loss: 0.2785 - val_loss: 0.1035\n",
            "Epoch 2/5\n",
            "100/100 [==============================] - 52s 522ms/step - loss: 0.0857 - val_loss: 0.0319\n",
            "Epoch 3/5\n",
            "100/100 [==============================] - 52s 522ms/step - loss: 0.0243 - val_loss: 0.0210\n",
            "Epoch 4/5\n",
            "100/100 [==============================] - 52s 522ms/step - loss: 0.0182 - val_loss: 0.0202\n",
            "Epoch 5/5\n",
            "100/100 [==============================] - 55s 556ms/step - loss: 0.0155 - val_loss: 0.0182\n"
          ]
        },
        {
          "output_type": "execute_result",
          "data": {
            "text/plain": [
              "<keras.callbacks.History at 0x7f23d7695b10>"
            ]
          },
          "metadata": {},
          "execution_count": 65
        }
      ]
    },
    {
      "cell_type": "code",
      "metadata": {
        "id": "3efeEUgVD2L1"
      },
      "source": [
        "pred = model.predict(x)#.shape"
      ],
      "execution_count": null,
      "outputs": []
    },
    {
      "cell_type": "code",
      "metadata": {
        "colab": {
          "base_uri": "https://localhost:8080/",
          "height": 298
        },
        "id": "EaetdHmpT6jx",
        "outputId": "07c8d6d0-ba7b-4d53-dd01-be0b6fa72561"
      },
      "source": [
        "im_id = 0\n",
        "fig, axes = plt.subplots(nrows=1, ncols=3, figsize=(15, 15))\n",
        "axes[0].imshow(x[im_id])\n",
        "axes[1].imshow(pred[im_id, ..., 0] > 0.5)\n",
        "axes[2].imshow(y[im_id, ..., 0])\n",
        "plt.show()"
      ],
      "execution_count": null,
      "outputs": [
        {
          "output_type": "display_data",
          "data": {
            "image/png": "[encoded data removed]",
            "text/plain": [
              "<Figure size 1080x1080 with 3 Axes>"
            ]
          },
          "metadata": {
            "needs_background": "light"
          }
        }
      ]
    },
    {
      "cell_type": "code",
      "metadata": {
        "id": "17GImFP0A6Jq"
      },
      "source": [
        "mask = y[im_id, ..., 0]\n",
        "pred_mask = pred[im_id, ..., 0] > 0.5"
      ],
      "execution_count": null,
      "outputs": []
    },
    {
      "cell_type": "code",
      "metadata": {
        "id": "TOpZ_uvUjwUq"
      },
      "source": [
        "intersection = np.logical_and(mask,pred_mask)\n",
        "union = np.logical_or(mask,pred_mask)"
      ],
      "execution_count": null,
      "outputs": []
    },
    {
      "cell_type": "code",
      "metadata": {
        "id": "3lL_X4fLpOI8"
      },
      "source": [
        "def IoU(mask, pred_mask):\n",
        "    # return np.sum(mask*pred_mask)/np.sum(mask+pred_mask)\n",
        "    # return intersection / union\n",
        "    return np.sum(intersection) / np.sum(union)"
      ],
      "execution_count": null,
      "outputs": []
    },
    {
      "cell_type": "code",
      "metadata": {
        "id": "lvQUq3JggCjJ"
      },
      "source": [
        "def dice(mask, pred_mask):\n",
        "    #remeber that for dica you use total number of white pixel in mask + pred_mask (not interseption )\n",
        "    # return 2*np.sum(mask*pred_mask)/np.sum(mask+pred_mask)\n",
        "    smooth = 1\n",
        "    # return (2*intersection + smooth)/ (np.sum(mask) + np.sum(pred_mask) + smooth)\n",
        "    return (2*np.sum(intersection) + smooth)/ (np.sum(mask) + np.sum(pred_mask) + smooth)\n"
      ],
      "execution_count": null,
      "outputs": []
    },
    {
      "cell_type": "code",
      "metadata": {
        "colab": {
          "base_uri": "https://localhost:8080/"
        },
        "id": "MeVYbZp1pRke",
        "outputId": "a5374fec-c636-4781-e1df-53a4da2f2b70"
      },
      "source": [
        "IoU(mask,pred_mask)"
      ],
      "execution_count": null,
      "outputs": [
        {
          "output_type": "execute_result",
          "data": {
            "text/plain": [
              "0.9197886647454371"
            ]
          },
          "metadata": {},
          "execution_count": 81
        }
      ]
    },
    {
      "cell_type": "code",
      "metadata": {
        "colab": {
          "base_uri": "https://localhost:8080/"
        },
        "id": "pdhu23LZpTVW",
        "outputId": "970bd3c3-ecb2-40c9-865d-2d3e71730610"
      },
      "source": [
        "dice(mask,pred_mask)"
      ],
      "execution_count": null,
      "outputs": [
        {
          "output_type": "execute_result",
          "data": {
            "text/plain": [
              "0.9582221480987325"
            ]
          },
          "metadata": {},
          "execution_count": 82
        }
      ]
    }
  ]
}